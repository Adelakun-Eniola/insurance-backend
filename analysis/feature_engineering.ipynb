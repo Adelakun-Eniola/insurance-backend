{
 "cells": [
  {
   "cell_type": "code",
   "execution_count": 13,
   "id": "initial_id",
   "metadata": {
    "collapsed": true,
    "ExecuteTime": {
     "end_time": "2025-04-26T13:40:06.892190200Z",
     "start_time": "2025-04-26T13:40:06.743968200Z"
    }
   },
   "outputs": [],
   "source": [
    "import pandas as pd\n",
    "import numpy as np\n",
    "import os\n",
    "import pathlib as path"
   ]
  },
  {
   "cell_type": "code",
   "outputs": [],
   "source": [
    "df = pd.read_csv(\"../data/processed/cleaned_dataset_.csv\")\n",
    "# PROCESSED_PATH = \"../data/processed/\""
   ],
   "metadata": {
    "collapsed": false,
    "ExecuteTime": {
     "end_time": "2025-04-26T13:40:07.350964Z",
     "start_time": "2025-04-26T13:40:06.904163900Z"
    }
   },
   "id": "9c1da2af195a97f1",
   "execution_count": 14
  },
  {
   "cell_type": "code",
   "outputs": [],
   "source": [
    "\n",
    "# print(df.columns)\n",
    "\n",
    "df['log_charges'] = np.log1p(df['medical charges'])\n"
   ],
   "metadata": {
    "collapsed": false,
    "ExecuteTime": {
     "end_time": "2025-04-26T13:21:30.820113700Z",
     "start_time": "2025-04-26T13:21:30.758551Z"
    }
   },
   "id": "87743d8b1c796b00",
   "execution_count": 9
  },
  {
   "cell_type": "code",
   "outputs": [],
   "source": [
    "df['is_obese'] = (df['bmi'] >= 30).astype(int)\n"
   ],
   "metadata": {
    "collapsed": false,
    "ExecuteTime": {
     "end_time": "2025-04-26T13:28:03.862484700Z",
     "start_time": "2025-04-26T13:28:02.766051700Z"
    }
   },
   "id": "6eb0d4e13b8c84e0",
   "execution_count": 10
  },
  {
   "cell_type": "code",
   "outputs": [],
   "source": [
    "df['smoker_bmi'] = df['smoker'] * df['bmi']\n"
   ],
   "metadata": {
    "collapsed": false,
    "ExecuteTime": {
     "end_time": "2025-04-26T13:28:37.797470400Z",
     "start_time": "2025-04-26T13:28:37.736770100Z"
    }
   },
   "id": "2e265f626ab9356a",
   "execution_count": 11
  },
  {
   "cell_type": "code",
   "outputs": [],
   "source": [
    "from sklearn.preprocessing import StandardScaler\n",
    "scaler = StandardScaler()\n",
    "df[['age', 'bmi', 'children', 'smoker_bmi']] = scaler.fit_transform(df[['age','bmi','children','smoker_bmi']])\n"
   ],
   "metadata": {
    "collapsed": false,
    "ExecuteTime": {
     "end_time": "2025-04-26T13:36:34.845889200Z",
     "start_time": "2025-04-26T13:36:26.598745400Z"
    }
   },
   "id": "9569120ea18d5d15",
   "execution_count": 12
  },
  {
   "cell_type": "code",
   "outputs": [],
   "source": [
    "# os.mkdir(\"../data/processed/engineered_cost.csv\")\n",
    "df.to_csv(\"../data/processed/engineered_cost.csv/engineered_dataset.csv\")"
   ],
   "metadata": {
    "collapsed": false,
    "ExecuteTime": {
     "end_time": "2025-04-26T13:47:05.254991900Z",
     "start_time": "2025-04-26T13:47:05.197134800Z"
    }
   },
   "id": "88fdaf2cb9d903ff",
   "execution_count": 17
  },
  {
   "cell_type": "code",
   "outputs": [],
   "source": [],
   "metadata": {
    "collapsed": false
   },
   "id": "ec23de9829169c48"
  }
 ],
 "metadata": {
  "kernelspec": {
   "display_name": "Python 3",
   "language": "python",
   "name": "python3"
  },
  "language_info": {
   "codemirror_mode": {
    "name": "ipython",
    "version": 2
   },
   "file_extension": ".py",
   "mimetype": "text/x-python",
   "name": "python",
   "nbconvert_exporter": "python",
   "pygments_lexer": "ipython2",
   "version": "2.7.6"
  }
 },
 "nbformat": 4,
 "nbformat_minor": 5
}
